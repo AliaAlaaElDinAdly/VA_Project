{
 "cells": [
  {
   "cell_type": "markdown",
   "metadata": {
    "collapsed": true
   },
   "source": [
    "# Planning\n",
    "\n",
    "Alia & Jean:\n",
    "* [index](index.ipynb) (DONE)\n",
    "    * Data set overview\n",
    "    * Task Definition\n",
    "    * Our approach\n",
    "    * Results\n",
    "\n",
    "Alia:\n",
    "* [Tabacco](Tabacco.ipynb) (DONE)\n",
    "* [Alcohol](Alcohol.ipynb) (DONE)\n",
    "* [Cocaine and Crack](Cocaine and Crack.ipynb) (DONE)\n",
    "* [Marijuana](Marijuana.ipynb) (DONE)\n",
    "* [Heroin](Heroin.ipynb) (DONE)\n",
    "\n",
    "Jean:\n",
    "* [Hallucinogens](Hallucinogens.ipynb) (DONE)\n",
    "* [Inhalants](Inhalants.ipynb) (DONE)\n",
    "* [Pain Relievers](Pain Relievers.ipynb) (DONE)\n",
    "* [Tranquilizers](Tranquilizers.ipynb) (DONE)\n",
    "* [Stimulants](Stimulants.ipynb) (DONE)\n",
    "* [Sedatives](Sedatives.ipynb) (DONE)\n",
    "\n",
    "\n",
    "Questions to be answered for anlysis:\n",
    "\n",
    "For each drug.\n",
    "* How many people use the drug\n",
    "* Their age range\n",
    "* How frequently they use it\n",
    "* Did they stop and go back to it\n",
    "* Are they planning to quit\n",
    "\n",
    "Alia & Jean\n",
    "* [Results](Results.ipynb)\n",
    "* Compare between drugs. Do [Clustering](Clustering.ipynb) (final step).\n",
    "* Which are frequently used\n",
    "* What age range\n",
    "* Did they stop and go to another drug\n",
    "\n",
    "*Include in conclusion:\n",
    "During the analysis it was found that the data was not very precise or consistent as some results were interpretted during updating the document and changing the survey codes. Usually during the analysis, such results are excluded. \n",
    "\n",
    "##### Finally,  cluster similar items and show the clustering result. Since you have high-dimensional data, use a dimension reduction technique to reduce the number of dimensions for 2D plotting. Perform clustering on two aggregation levels. First, cluster the aggregated data and let the user interactively select clustering algorithms and its parameter. The goal of this step is to select one cluster in which in a second interactive plot the items that are part of the aggregated cluster are presented and again clustered using an interactive visualization. To realize this, you create a simple overview+detail setup.\n"
   ]
  }
 ],
 "metadata": {
  "anaconda-cloud": {},
  "kernelspec": {
   "display_name": "Python [conda root]",
   "language": "python",
   "name": "conda-root-py"
  },
  "language_info": {
   "codemirror_mode": {
    "name": "ipython",
    "version": 3
   },
   "file_extension": ".py",
   "mimetype": "text/x-python",
   "name": "python",
   "nbconvert_exporter": "python",
   "pygments_lexer": "ipython3",
   "version": "3.5.2"
  }
 },
 "nbformat": 4,
 "nbformat_minor": 1
}
