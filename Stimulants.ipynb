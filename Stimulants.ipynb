{
 "cells": [
  {
   "cell_type": "markdown",
   "metadata": {},
   "source": [
    "# Stimulants\n",
    "\n",
    "Tabacco includes six different sub-classes. Again the data set is divided to extract the sub-classes data.\n",
    "\n",
    "* Cigarettes\n",
    "* Snuff\n",
    "* Chewing Tabacco\n",
    "* Smokeless Tabacco\n",
    "* Cigar\n",
    "* Pipe "
   ]
  },
  {
   "cell_type": "code",
   "execution_count": null,
   "metadata": {
    "collapsed": true
   },
   "outputs": [],
   "source": [
    "#disable some annoying warnings\n",
    "import warnings\n",
    "warnings.filterwarnings('ignore', category=FutureWarning)\n",
    "\n",
    "#plots the figures in place instead of a new window\n",
    "%matplotlib inline\n",
    "\n",
    "import matplotlib.pyplot as plt\n",
    "import seaborn as sns\n",
    "\n",
    "import numpy as np\n",
    "import pandas as pd"
   ]
  },
  {
   "cell_type": "code",
   "execution_count": null,
   "metadata": {
    "collapsed": true
   },
   "outputs": [],
   "source": [
    "#data is a tsv file therefore read it as a csv file with \\t as the seperator\n",
    "dataset = pd.read_csv('data/drugs-dataset.tsv', delimiter = '\\t')"
   ]
  },
  {
   "cell_type": "code",
   "execution_count": null,
   "metadata": {
    "collapsed": true
   },
   "outputs": [],
   "source": [
    "case_quest_data = dataset.ix[:,0:2].copy()\n",
    "stimulants = dataset.ix[:,'METHDES':'MTDAYPWK'].copy() # stimulants dataset"
   ]
  },
  {
   "cell_type": "code",
   "execution_count": null,
   "metadata": {
    "collapsed": true
   },
   "outputs": [],
   "source": [
    "tabacco_cig = tabacco.ix[:,'CIGEVER':'CIG100LF'].copy() # cigarettes dataset\n",
    "tabacco_snuff = tabacco.ix[:,'SNFEVER':'SNF30BR2'].copy() # snuff dataset\n",
    "tabacco_chew = tabacco.ix[:,'CHEWEVER':'CHW30BR2'].copy() # chew dataset\n",
    "tabacco_smokeless = tabacco.ix[:,'SLTTRY':'SLT30BR2'].copy() # smokeless dataset\n",
    "tabacco_cigar = tabacco.ix[:,'CIGAREVR':'CGR30BR2'].copy() # cigar dataset\n",
    "tabacco_pipe = tabacco.ix[:,'PIPEVER':'PIPE30DY'].copy() # pipe dataset"
   ]
  },
  {
   "cell_type": "markdown",
   "metadata": {},
   "source": [
    "## Next\n",
    "\n",
    "[Sedatives](Sedatives.ipynb)"
   ]
  }
 ],
 "metadata": {
  "anaconda-cloud": {},
  "kernelspec": {
   "display_name": "Python [conda root]",
   "language": "python",
   "name": "conda-root-py"
  },
  "language_info": {
   "codemirror_mode": {
    "name": "ipython",
    "version": 3
   },
   "file_extension": ".py",
   "mimetype": "text/x-python",
   "name": "python",
   "nbconvert_exporter": "python",
   "pygments_lexer": "ipython3",
   "version": "3.5.2"
  }
 },
 "nbformat": 4,
 "nbformat_minor": 1
}
