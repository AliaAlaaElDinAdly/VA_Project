{
 "cells": [
  {
   "cell_type": "markdown",
   "metadata": {
    "collapsed": true
   },
   "source": [
    "# Planning\n",
    "\n",
    "\n",
    "Alia:\n",
    "* [Tabacco](Tabacco.ipynb)\n",
    "* [Alcohol](Alcohol.ipynb)\n",
    "* [Cocaine and Crack](Cocaine and Crack.ipynb)\n",
    "* [Marijuana](Marijuana.ipynb)\n",
    "* [Heroin](Heroin.ipynb)\n",
    "\n",
    "Jean:\n",
    "* [Hallucinogens](Hallucinogens.ipynb)\n",
    "* [Inhalants](Inhalants.ipynb)\n",
    "* [Pain Relievers](Pain Relievers.ipynb)\n",
    "* [Tranquilizers](Tranquilizers.ipynb)\n",
    "* [Stimulants](Stimulants.ipynb)\n",
    "* [Sedatives](Sedatives.ipynb)\n",
    "\n",
    "\n",
    "Questions to be answered for anlysis:\n",
    "\n",
    "For each drug.\n",
    "* How many people use the drug\n",
    "* Their age range\n",
    "* How frequently they use it\n",
    "* Did they stop and go back to it\n",
    "* Are they planning to quit\n",
    "\n",
    "Combare between drugs.\n",
    "* Which are frequently used\n",
    "* What age range\n",
    "* Did they stop and go to another drug\n",
    "\n",
    "Note: Find a way to include dataset in github"
   ]
  },
  {
   "cell_type": "code",
   "execution_count": null,
   "metadata": {
    "collapsed": true
   },
   "outputs": [],
   "source": []
  }
 ],
 "metadata": {
  "anaconda-cloud": {},
  "kernelspec": {
   "display_name": "Python [conda root]",
   "language": "python",
   "name": "conda-root-py"
  },
  "language_info": {
   "codemirror_mode": {
    "name": "ipython",
    "version": 3
   },
   "file_extension": ".py",
   "mimetype": "text/x-python",
   "name": "python",
   "nbconvert_exporter": "python",
   "pygments_lexer": "ipython3",
   "version": "3.5.2"
  }
 },
 "nbformat": 4,
 "nbformat_minor": 1
}
