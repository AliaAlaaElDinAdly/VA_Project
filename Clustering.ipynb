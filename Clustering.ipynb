{
 "cells": [
  {
   "cell_type": "code",
   "execution_count": 2,
   "metadata": {
    "collapsed": true
   },
   "outputs": [],
   "source": [
    "#disable some annoying warning\n",
    "import warnings\n",
    "warnings.filterwarnings('ignore', category=FutureWarning)\n",
    "\n",
    "%matplotlib inline\n",
    "import numpy as np\n",
    "import pandas as pd\n",
    "import seaborn as sns\n",
    "import matplotlib.pyplot as plt\n",
    "\n",
    "#data is a tsv file therefore read it as a csv file with \\t as the seperator\n",
    "dataset = pd.read_csv('data/drugs-dataset.tsv', delimiter = '\\t')"
   ]
  },
  {
   "cell_type": "code",
   "execution_count": 11,
   "metadata": {
    "collapsed": false
   },
   "outputs": [],
   "source": [
    "\n",
    "trail1 = dataset.ix[ (dataset['CIG30USE'] <=31) & (dataset['SNF30USE'] <= 31) & (dataset['CGR30USE']<= 31) & (dataset['COCEVER']<=2)& (dataset['ALCEVER']<=2) ].copy()\n",
    "trail = trail1.ix[: , ['CIG30USE', 'SNF30USE','CGR30USE','COCEVER','ALCEVER']].copy()\n",
    "\n"
   ]
  },
  {
   "cell_type": "code",
   "execution_count": 14,
   "metadata": {
    "collapsed": true
   },
   "outputs": [],
   "source": [
    "age_correlation = dataset.ix[ (dataset['MJAGE'] < 90) & (dataset['ALCTRY'] < 90) & (dataset['CIGARTRY']< 90)  ].copy()\n",
    "trail = age_correlation.ix[: , ['MJAGE', 'ALCTRY','CIGARTRY','CIGEVER']].copy()"
   ]
  },
  {
   "cell_type": "code",
   "execution_count": 15,
   "metadata": {
    "collapsed": false
   },
   "outputs": [],
   "source": [
    "trail\n",
    "\n",
    "#MJAGE ALCTRY  CIGARTRY\n",
    "trail['class'] = 1 \n",
    "trail['class'][ (trail['MJAGE']<12)  ] = 1\n",
    "trail['class'][ (trail['MJAGE']>=12) & (trail['MJAGE']<=18) ] = 2\n",
    "trail['class'][ (trail['MJAGE']>=18 )] = 3\n",
    "\n",
    "#trail['class'] = 3\n",
    "#trail['class'][ (trail['CIG30USE']<10)  ] = 1\n",
    "#trail['class'][ (trail['CIG30USE']>=10) & (trail['CIG30USE']<20) ] = 2\n",
    "#trail['class'][ (trail['CIG30USE']>20 ) ] = 3\n",
    "#trail['class'][ (trail['COCEVER']==1) & ((trail['ALCEVER']==1)) ] = 1 \n",
    "#trail['class'][ (trail['COCEVER']==2) & ((trail['ALCEVER']==1)) ] = 2\n",
    "#trail['class'][ (trail['COCEVER']==1) & ((trail['ALCEVER']==2)) ] = 3\n",
    "#trail['class'][ (trail['COCEVER']==2) & ((trail['ALCEVER']==2)) ] = 4\n",
    "\n",
    "trail_noclass=trail.ix[:, 'MJAGE': 'CIGARTRY']\n",
    "test= trail_noclass.values\n",
    "target=trail.values"
   ]
  },
  {
   "cell_type": "code",
   "execution_count": 16,
   "metadata": {
    "collapsed": false
   },
   "outputs": [
    {
     "ename": "TypeError",
     "evalue": "'tuple' object is not callable",
     "output_type": "error",
     "traceback": [
      "\u001b[0;31m---------------------------------------------------------------------------\u001b[0m",
      "\u001b[0;31mTypeError\u001b[0m                                 Traceback (most recent call last)",
      "\u001b[0;32m<ipython-input-16-59b57d79413b>\u001b[0m in \u001b[0;36m<module>\u001b[0;34m()\u001b[0m\n\u001b[0;32m----> 1\u001b[0;31m \u001b[0mtrail\u001b[0m\u001b[1;33m.\u001b[0m\u001b[0mshape\u001b[0m\u001b[1;33m(\u001b[0m\u001b[1;33m)\u001b[0m\u001b[1;33m\u001b[0m\u001b[0m\n\u001b[0m",
      "\u001b[0;31mTypeError\u001b[0m: 'tuple' object is not callable"
     ]
    }
   ],
   "source": [
    "trail.shape()"
   ]
  },
  {
   "cell_type": "code",
   "execution_count": 10,
   "metadata": {
    "collapsed": false,
    "scrolled": true
   },
   "outputs": [
    {
     "data": {
      "text/html": [
       "<div>\n",
       "<table border=\"1\" class=\"dataframe\">\n",
       "  <thead>\n",
       "    <tr style=\"text-align: right;\">\n",
       "      <th></th>\n",
       "      <th>MJAGE</th>\n",
       "      <th>ALCTRY</th>\n",
       "      <th>CIGARTRY</th>\n",
       "      <th>CIGEVER</th>\n",
       "      <th>class</th>\n",
       "    </tr>\n",
       "  </thead>\n",
       "  <tbody>\n",
       "    <tr>\n",
       "      <th>3</th>\n",
       "      <td>14</td>\n",
       "      <td>12</td>\n",
       "      <td>14</td>\n",
       "      <td>1</td>\n",
       "      <td>2</td>\n",
       "    </tr>\n",
       "    <tr>\n",
       "      <th>9</th>\n",
       "      <td>13</td>\n",
       "      <td>13</td>\n",
       "      <td>14</td>\n",
       "      <td>1</td>\n",
       "      <td>2</td>\n",
       "    </tr>\n",
       "    <tr>\n",
       "      <th>12</th>\n",
       "      <td>16</td>\n",
       "      <td>6</td>\n",
       "      <td>18</td>\n",
       "      <td>1</td>\n",
       "      <td>2</td>\n",
       "    </tr>\n",
       "    <tr>\n",
       "      <th>22</th>\n",
       "      <td>12</td>\n",
       "      <td>11</td>\n",
       "      <td>15</td>\n",
       "      <td>1</td>\n",
       "      <td>2</td>\n",
       "    </tr>\n",
       "    <tr>\n",
       "      <th>37</th>\n",
       "      <td>19</td>\n",
       "      <td>19</td>\n",
       "      <td>22</td>\n",
       "      <td>1</td>\n",
       "      <td>3</td>\n",
       "    </tr>\n",
       "  </tbody>\n",
       "</table>\n",
       "</div>"
      ],
      "text/plain": [
       "    MJAGE  ALCTRY  CIGARTRY  CIGEVER  class\n",
       "3      14      12        14        1      2\n",
       "9      13      13        14        1      2\n",
       "12     16       6        18        1      2\n",
       "22     12      11        15        1      2\n",
       "37     19      19        22        1      3"
      ]
     },
     "execution_count": 10,
     "metadata": {},
     "output_type": "execute_result"
    }
   ],
   "source": [
    "trail.head()\n"
   ]
  },
  {
   "cell_type": "code",
   "execution_count": 4,
   "metadata": {
    "collapsed": false
   },
   "outputs": [
    {
     "ename": "NameError",
     "evalue": "name 'test' is not defined",
     "output_type": "error",
     "traceback": [
      "\u001b[0;31m---------------------------------------------------------------------------\u001b[0m",
      "\u001b[0;31mNameError\u001b[0m                                 Traceback (most recent call last)",
      "\u001b[0;32m<ipython-input-4-2e716e18fdf5>\u001b[0m in \u001b[0;36m<module>\u001b[0;34m()\u001b[0m\n\u001b[1;32m      7\u001b[0m \u001b[1;33m\u001b[0m\u001b[0m\n\u001b[1;32m      8\u001b[0m \u001b[0mcolors\u001b[0m \u001b[1;33m=\u001b[0m \u001b[0msns\u001b[0m\u001b[1;33m.\u001b[0m\u001b[0mcolor_palette\u001b[0m\u001b[1;33m(\u001b[0m\u001b[0mn_colors\u001b[0m\u001b[1;33m=\u001b[0m\u001b[1;36m10\u001b[0m\u001b[1;33m)\u001b[0m\u001b[1;33m\u001b[0m\u001b[0m\n\u001b[0;32m----> 9\u001b[0;31m \u001b[0mmds_pos\u001b[0m \u001b[1;33m=\u001b[0m \u001b[0mmds\u001b[0m\u001b[1;33m.\u001b[0m\u001b[0mfit\u001b[0m\u001b[1;33m(\u001b[0m\u001b[0mtest\u001b[0m\u001b[1;33m)\u001b[0m\u001b[1;33m.\u001b[0m\u001b[0membedding_\u001b[0m\u001b[1;33m\u001b[0m\u001b[0m\n\u001b[0m\u001b[1;32m     10\u001b[0m \u001b[1;33m\u001b[0m\u001b[0m\n\u001b[1;32m     11\u001b[0m \u001b[1;33m@\u001b[0m\u001b[0minteract\u001b[0m\u001b[1;33m(\u001b[0m\u001b[0mn_clusters\u001b[0m\u001b[1;33m=\u001b[0m\u001b[1;33m(\u001b[0m\u001b[1;36m1\u001b[0m\u001b[1;33m,\u001b[0m\u001b[1;36m10\u001b[0m\u001b[1;33m)\u001b[0m\u001b[1;33m)\u001b[0m\u001b[1;33m\u001b[0m\u001b[0m\n",
      "\u001b[0;31mNameError\u001b[0m: name 'test' is not defined"
     ]
    }
   ],
   "source": [
    "from IPython.html.widgets import interact\n",
    "from sklearn.cluster import KMeans\n",
    "from sklearn import manifold\n",
    "\n",
    "#create mds instance\n",
    "mds = manifold.MDS(n_components=2, random_state=5)\n",
    "\n",
    "colors = sns.color_palette(n_colors=10)\n",
    "mds_pos = mds.fit(test).embedding_\n",
    "\n",
    "@interact(n_clusters=(1,10))\n",
    "def draw_plot(n_clusters):\n",
    "    instance = KMeans(n_clusters=n_clusters, random_state = 102)\n",
    "    clusters_assignment = instance.fit_predict(test)\n"
   ]
  },
  {
   "cell_type": "code",
   "execution_count": 3,
   "metadata": {
    "collapsed": false
   },
   "outputs": [
    {
     "ename": "NameError",
     "evalue": "name 'mds' is not defined",
     "output_type": "error",
     "traceback": [
      "\u001b[0;31m---------------------------------------------------------------------------\u001b[0m",
      "\u001b[0;31mNameError\u001b[0m                                 Traceback (most recent call last)",
      "\u001b[0;32m<ipython-input-3-185cf8c1446a>\u001b[0m in \u001b[0;36m<module>\u001b[0;34m()\u001b[0m\n\u001b[1;32m      3\u001b[0m \u001b[1;33m\u001b[0m\u001b[0m\n\u001b[1;32m      4\u001b[0m \u001b[1;33m\u001b[0m\u001b[0m\n\u001b[0;32m----> 5\u001b[0;31m \u001b[0mmds_pos\u001b[0m \u001b[1;33m=\u001b[0m \u001b[0mmds\u001b[0m\u001b[1;33m.\u001b[0m\u001b[0mfit\u001b[0m\u001b[1;33m(\u001b[0m\u001b[0mtest\u001b[0m\u001b[1;33m)\u001b[0m\u001b[1;33m.\u001b[0m\u001b[0membedding_\u001b[0m\u001b[1;33m\u001b[0m\u001b[0m\n\u001b[0m\u001b[1;32m      6\u001b[0m \u001b[1;33m\u001b[0m\u001b[0m\n\u001b[1;32m      7\u001b[0m \u001b[1;33m@\u001b[0m\u001b[0minteract\u001b[0m\u001b[1;33m(\u001b[0m\u001b[0mn_clusters\u001b[0m\u001b[1;33m=\u001b[0m\u001b[1;33m(\u001b[0m\u001b[1;36m1\u001b[0m\u001b[1;33m,\u001b[0m\u001b[1;36m10\u001b[0m\u001b[1;33m)\u001b[0m\u001b[1;33m)\u001b[0m\u001b[1;33m\u001b[0m\u001b[0m\n",
      "\u001b[0;31mNameError\u001b[0m: name 'mds' is not defined"
     ]
    }
   ],
   "source": [
    "from IPython.html.widgets import interact\n",
    "colors = sns.color_palette(n_colors=10)\n",
    "\n",
    "\n",
    "mds_pos = mds.fit(test).embedding_\n",
    "\n",
    "@interact(n_clusters=(1,10))\n",
    "def draw_plot(n_clusters):\n",
    "    instance = KMeans(n_clusters=n_clusters, random_state = 102)\n",
    "    clusters_assignment = instance.fit_predict(test)\n",
    "    plt.scatter(mds_pos[:, 0], mds_pos[:, 1], s=20, c=[colors[i] for i in clusters_assignment])"
   ]
  },
  {
   "cell_type": "code",
   "execution_count": null,
   "metadata": {
    "collapsed": false
   },
   "outputs": [],
   "source": [
    "\n",
    "@interact_manual(ks=(1,20),color=['100','101','102'])\n",
    "def show(ks,color):\n",
    "    iris_pred = KMeans(n_clusters=ks, random_state = 102).fit_predict(data.data)\n",
    "   \n",
    "    iris_pred.reset\n",
    "\n",
    "plt.figure(figsize=(12, 12))\n",
    "colors = sns.color_palette()\n",
    "plt.subplot(211)\n",
    "plt.scatter(data.data[:, 0], data.data[:, 1], c=[colors[i] for i in iris_pred], s=40)\n",
    "plt.title('KMeans-3 clusterer')\n",
    "plt.xlabel(data.feature_names[0])\n",
    "plt.ylabel(data.feature_names[1])\n",
    "\n",
    "plt.subplot(212)\n",
    "plt.scatter(data.data[:, 0], data.data[:, 1], c=[colors[i] for i in data.target],s=40)\n",
    "plt.title('Ground Truth')\n",
    "plt.xlabel(data.feature_names[0])\n",
    "plt.ylabel(data.feature_names[1])"
   ]
  },
  {
   "cell_type": "code",
   "execution_count": null,
   "metadata": {
    "collapsed": true
   },
   "outputs": [],
   "source": [
    "dataset = pd.read_csv('data/drugs-dataset.tsv', delimiter = '\\t')\n",
    "tabacco_cig = dataset.ix[:,'CIGEVER':'CIG100LF'].copy() \n",
    "# cigarettes dataset    plt.scatter(mds_pos[:, 0], mds_pos[:, 1], s=20, c=[colors[i] for i in clusters_assignment])\n",
    "age_data_1 = tabacco_cig.ix[(tabacco_cig['CIGEVER'] == 1) & (tabacco_cig['CIGTRY'] != 985) & (tabacco_cig['CIGTRY'] != 991) & (tabacco_cig['CIGTRY'] != 997) & (tabacco_cig['CIGTRY'] != 994)].copy()"
   ]
  },
  {
   "cell_type": "code",
   "execution_count": null,
   "metadata": {
    "collapsed": true
   },
   "outputs": [],
   "source": [
    "@interact(bins=(5, 25, 5),color=['red','green','orange','blue'])\n",
    "def show_distplot(bins,color):\n",
    "    cars['mpg'].hist(bins=bins, color=color)\n",
    "    \n",
    "    \n",
    "    # to get count by age range\n",
    "age_data_1['AgeGroup'] = age_data_1[['CIGTRY']].apply(cutDF)\n",
    "ax = sns.countplot(x=age_data_1['AgeGroup'], order=['0-10','11-20','21-30','31-40','41-50','51-60','61-70'])\n",
    "plt.xlabel('Age Group of first cigarette smoked')\n",
    "for p in ax.patches:\n",
    "        ax.annotate(str(p.get_height()), (p.get_x()+0.1, p.get_height()+50))"
   ]
  },
  {
   "cell_type": "code",
   "execution_count": null,
   "metadata": {
    "collapsed": true
   },
   "outputs": [],
   "source": [
    "dataset_All = dataset.ix[:, ['CASEID', 'QUESTID2', 'ALCEVER', 'ALCDAYS', 'ALCTRY', 'MJEVER', 'MJDAY30A', 'MJAGE', 'CIGEVER', 'CIG30USE', 'CIGTRY', 'SNFEVER', 'SNF30USE', 'SNUFTRY', 'CIGAREVR', 'CGR30USE', 'CIGARTRY']].copy()\n",
    "dataset_All['ALCTRY'] = dataset_All.ix[dataset_All['ALCTRY']<90, 'ALCTRY']\n",
    "dataset_All['MJAGE'] = dataset_All.ix[dataset_All['MJAGE']<90, 'MJAGE']\n",
    "dataset_All['CIGTRY'] = dataset_All.ix[dataset_All['CIGTRY']<90, 'CIGTRY']\n",
    "dataset_All['SNUFTRY'] = dataset_All.ix[dataset_All['SNUFTRY']<90, 'SNUFTRY']\n",
    "dataset_All['CIGARTRY'] = dataset_All.ix[dataset_All['CIGARTRY']<90, 'CIGARTRY']\n",
    "dataset_All = dataset_All.fillna(0)"
   ]
  },
  {
   "cell_type": "code",
   "execution_count": null,
   "metadata": {
    "collapsed": false
   },
   "outputs": [],
   "source": [
    "corrmat = dataset_All.corr()\n",
    "\n",
    "# draw a clustered heatmap using seaborn\n",
    "sns.clustermap(corrmat, square=True)"
   ]
  }
 ],
 "metadata": {
  "anaconda-cloud": {},
  "kernelspec": {
   "display_name": "Python [default]",
   "language": "python",
   "name": "python3"
  },
  "language_info": {
   "codemirror_mode": {
    "name": "ipython",
    "version": 3
   },
   "file_extension": ".py",
   "mimetype": "text/x-python",
   "name": "python",
   "nbconvert_exporter": "python",
   "pygments_lexer": "ipython3",
   "version": "3.5.2"
  }
 },
 "nbformat": 4,
 "nbformat_minor": 1
}
