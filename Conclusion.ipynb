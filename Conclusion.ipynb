{
 "cells": [
  {
   "cell_type": "markdown",
   "metadata": {},
   "source": [
    "# Conclusion\n",
    "\n",
    "Combare between drugs.\n",
    "* Which are frequently used\n",
    "* What age range\n",
    "* Did they stop and go to another drug"
   ]
  },
  {
   "cell_type": "code",
   "execution_count": null,
   "metadata": {
    "collapsed": true
   },
   "outputs": [],
   "source": [
    "#disable some annoying warnings\n",
    "import warnings\n",
    "warnings.filterwarnings('ignore', category=FutureWarning)\n",
    "\n",
    "#plots the figures in place instead of a new window\n",
    "%matplotlib inline\n",
    "\n",
    "import matplotlib.pyplot as plt\n",
    "import seaborn as sns\n",
    "\n",
    "import numpy as np\n",
    "import pandas as pd"
   ]
  },
  {
   "cell_type": "code",
   "execution_count": null,
   "metadata": {
    "collapsed": true
   },
   "outputs": [],
   "source": [
    "#data is a tsv file therefore read it as a csv file with \\t as the seperator\n",
    "dataset = pd.read_csv('data/drugs-dataset.tsv', delimiter = '\\t')"
   ]
  },
  {
   "cell_type": "code",
   "execution_count": null,
   "metadata": {
    "collapsed": true
   },
   "outputs": [],
   "source": [
    "case_quest_data = dataset.ix[:,0:2].copy()\n",
    "tabacco = dataset.ix[:,'CIGEVER':'PIPE30DY'].copy() # tabacco dataset\n",
    "alcohol = dataset.ix[:,'ALCEVER':'DR5DAY'].copy() # alcohol dataset\n",
    "cocaine = dataset.ix[:,'COCEVER':'CC30EST'].copy() # cocaine dataset\n",
    "crack = dataset.ix[:,'CRKEVER':'CR30EST'].copy() # crack dataset\n",
    "marijuana = dataset.ix[:,'MJEVER':'MR30EST'].copy() # marijuana dataset\n",
    "heroin = dataset.ix[:,'HEREVER':'HR30EST'].copy() # heroin dataset\n",
    "hallucinogens = dataset.ix[:,'LSD':'ECSREC'].copy() # hallucinogens dataset\n",
    "inhalants = dataset.ix[:,'AMYLNIT':'IN30EST'].copy() # inhalants dataset\n",
    "pain_relievers = dataset.ix[:,'DARVTYLC':'OXDAYPWK'].copy() # pain_relievers dataset\n",
    "tranquilizers = dataset.ix[:,'KLONOPIN':'TRDAYPWK'].copy() # tranquilizers dataset\n",
    "stimulants = dataset.ix[:,'METHDES':'MTDAYPWK'].copy() # stimulants dataset\n",
    "sedatives = dataset.ix[:,'METHAQ':'SVDAYPWK'].copy() # sedatives dataset"
   ]
  }
 ],
 "metadata": {
  "anaconda-cloud": {},
  "kernelspec": {
   "display_name": "Python [conda root]",
   "language": "python",
   "name": "conda-root-py"
  },
  "language_info": {
   "codemirror_mode": {
    "name": "ipython",
    "version": 3
   },
   "file_extension": ".py",
   "mimetype": "text/x-python",
   "name": "python",
   "nbconvert_exporter": "python",
   "pygments_lexer": "ipython3",
   "version": "3.5.2"
  }
 },
 "nbformat": 4,
 "nbformat_minor": 1
}
